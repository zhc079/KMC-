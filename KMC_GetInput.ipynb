{
 "cells": [
  {
   "cell_type": "code",
   "execution_count": 1,
   "metadata": {},
   "outputs": [
    {
     "name": "stdout",
     "output_type": "stream",
     "text": [
      "IP of ss_vac:  9.065816656\n"
     ]
    }
   ],
   "source": [
    "import PSSPEDOT as PP\n",
    "import numerical as num"
   ]
  },
  {
   "cell_type": "code",
   "execution_count": 2,
   "metadata": {},
   "outputs": [],
   "source": [
    "import os\n",
    "import xml.etree.ElementTree as ET\n",
    "import numpy as np\n",
    "\n",
    "# plot the data with matplotlib\n",
    "from mpl_toolkits.mplot3d import Axes3D\n",
    "import matplotlib.pyplot as plt\n",
    "\n",
    "from matplotlib.ticker import (MultipleLocator, FormatStrFormatter, AutoMinorLocator)\n",
    "import pylab\n",
    "\n",
    "import scipy as sp"
   ]
  },
  {
   "cell_type": "code",
   "execution_count": 3,
   "metadata": {},
   "outputs": [
    {
     "data": {
      "text/plain": [
       "'/data/zhong/ewaldAna_16'"
      ]
     },
     "execution_count": 3,
     "metadata": {},
     "output_type": "execute_result"
    }
   ],
   "source": [
    "pwd"
   ]
  },
  {
   "cell_type": "code",
   "execution_count": 31,
   "metadata": {},
   "outputs": [
    {
     "name": "stdout",
     "output_type": "stream",
     "text": [
      "/data/zhong/ewaldOut/ewaldOut_16_noE/3 /data/zhong/iqmOut/iqmOut_16_noE/3\n"
     ]
    }
   ],
   "source": [
    "filename1 = '/data/zhong/ewaldOut/ewaldOut_16_noE/3'\n",
    "filename2 = '/data/zhong/iqmOut/iqmOut_16_noE/3'\n",
    "print(filename1, filename2)"
   ]
  },
  {
   "cell_type": "code",
   "execution_count": 32,
   "metadata": {
    "scrolled": true
   },
   "outputs": [],
   "source": [
    "frame1 = PP.PSSPEDOT(filename1, filename2)\n",
    "frame1.get_E(frame1)\n",
    "frame1.get_J(frame1)\n",
    "frame1.get_Rate_Matrix(frame1)"
   ]
  },
  {
   "cell_type": "markdown",
   "metadata": {},
   "source": [
    "# produce input for the KMC cplus software"
   ]
  },
  {
   "cell_type": "code",
   "execution_count": 33,
   "metadata": {},
   "outputs": [],
   "source": [
    "R = np.zeros((62,3))\n",
    "R[30,0] = 15\n",
    "for i in range(30):\n",
    "    R[i,0] = int(i//2)\n",
    "for i in range(31):\n",
    "    R[i,1] = int(R[i,0] + 1 + i%2)\n",
    "\n",
    "for i in range(31,62):\n",
    "    R[i,0] = int(R[i-31,1])\n",
    "    R[i,1] = int(R[i-31,0])\n",
    "\n",
    "for i in range(62):\n",
    "    R[i,2] = frame1.W_HMBE[int(R[i,1]), int(R[i,0])]\n",
    "    \n",
    "#print(R)\n"
   ]
  },
  {
   "cell_type": "code",
   "execution_count": 34,
   "metadata": {},
   "outputs": [],
   "source": [
    "np.savetxt('nbList.txt', R, fmt = '%i %i %.7e', delimiter = ' ')"
   ]
  }
 ],
 "metadata": {
  "kernelspec": {
   "display_name": "Python 3",
   "language": "python",
   "name": "python3"
  },
  "language_info": {
   "codemirror_mode": {
    "name": "ipython",
    "version": 3
   },
   "file_extension": ".py",
   "mimetype": "text/x-python",
   "name": "python",
   "nbconvert_exporter": "python",
   "pygments_lexer": "ipython3",
   "version": "3.7.3"
  }
 },
 "nbformat": 4,
 "nbformat_minor": 2
}
